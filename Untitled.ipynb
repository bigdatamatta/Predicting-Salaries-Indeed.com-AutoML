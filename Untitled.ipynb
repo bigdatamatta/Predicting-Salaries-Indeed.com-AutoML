{
 "cells": [
  {
   "cell_type": "code",
   "execution_count": 6,
   "metadata": {},
   "outputs": [
    {
     "name": "stdout",
     "output_type": "stream",
     "text": [
      "AWS Access Key ID [****************UV5Q]: "
     ]
    },
    {
     "name": "stderr",
     "output_type": "stream",
     "text": [
      "\n",
      "EOF when reading a line\n"
     ]
    }
   ],
   "source": [
    "%%bash\n",
    "aws configure"
   ]
  },
  {
   "cell_type": "code",
   "execution_count": 13,
   "metadata": {},
   "outputs": [
    {
     "name": "stdout",
     "output_type": "stream",
     "text": [
      "-------------------------------------------------------------------------------------------------------\n",
      "|                                      DescribeSpotPriceHistory                                       |\n",
      "+-----------------------------------------------------------------------------------------------------+\n",
      "||                                         SpotPriceHistory                                          ||\n",
      "|+------------------+---------------+---------------------+------------+-----------------------------+|\n",
      "|| AvailabilityZone | InstanceType  | ProductDescription  | SpotPrice  |          Timestamp          ||\n",
      "|+------------------+---------------+---------------------+------------+-----------------------------+|\n",
      "||  us-west-2c      |  m3.medium    |  Linux/UNIX         |  0.009300  |  2017-10-23T04:01:51.000Z   ||\n",
      "||  us-west-2c      |  m3.medium    |  Linux/UNIX         |  0.009200  |  2017-10-23T03:57:11.000Z   ||\n",
      "||  us-west-2b      |  m3.medium    |  Linux/UNIX         |  0.009300  |  2017-10-23T03:36:05.000Z   ||\n",
      "||  us-west-2a      |  m3.medium    |  Linux/UNIX         |  0.009500  |  2017-10-22T23:47:29.000Z   ||\n",
      "|+------------------+---------------+---------------------+------------+-----------------------------+|\n"
     ]
    }
   ],
   "source": [
    "%%bash\n",
    "aws ec2 describe-spot-price-history \\\n",
    "    --start-time $(date -u +\"%Y%m%dT%H0000\") \\\n",
    "    --product \"Linux/UNIX\" \\\n",
    "    --instance-type \"m3.medium\" \\\n",
    "    --output table \\\n",
    "    --region us-west-2"
   ]
  },
  {
   "cell_type": "code",
   "execution_count": null,
   "metadata": {
    "collapsed": true
   },
   "outputs": [],
   "source": []
  }
 ],
 "metadata": {
  "kernelspec": {
   "display_name": "Python 3",
   "language": "python",
   "name": "python3"
  },
  "language_info": {
   "codemirror_mode": {
    "name": "ipython",
    "version": 3
   },
   "file_extension": ".py",
   "mimetype": "text/x-python",
   "name": "python",
   "nbconvert_exporter": "python",
   "pygments_lexer": "ipython3",
   "version": "3.6.3"
  }
 },
 "nbformat": 4,
 "nbformat_minor": 2
}
